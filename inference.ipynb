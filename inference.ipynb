{
 "cells": [
  {
   "cell_type": "code",
   "execution_count": 3,
   "metadata": {},
   "outputs": [],
   "source": [
    "from tensorflow.keras.layers import *\n",
    "from tensorflow.keras.models import Model, load_model\n",
    "from tensorflow.keras.utils import plot_model\n",
    "from tensorflow.keras.applications import ResNet50\n",
    "from glob import glob as gl\n",
    "import cv2\n",
    "import numpy as np\n",
    "from collections import deque\n",
    "from timeit import default_timer as timer"
   ]
  },
  {
   "cell_type": "code",
   "execution_count": 4,
   "metadata": {},
   "outputs": [],
   "source": [
    "resnet_backbone = ResNet50(weights=\"imagenet\", include_top=False, pooling=None, input_tensor=Input(shape=(224, 224, 3)))\n",
    "backbone_output = resnet_backbone.output\n",
    "\n",
    "# head\n",
    "head = AveragePooling2D(pool_size=(7, 7))(backbone_output)\n",
    "head = Flatten(name=\"flatten\")(head)\n",
    "head = Dense(512, activation=\"relu\")(head)\n",
    "head = Dropout(0.5)(head)\n",
    "head = Dense(512, activation=\"relu\")(head)\n",
    "head = Dropout(0.25)(head)\n",
    "head = Dense(256, activation=\"relu\")(head)\n",
    "head = Dropout(0.25)(head)\n",
    "head = Dense(64, activation=\"relu\")(head)\n",
    "head = Dropout(0.25)(head)\n",
    "head = Dense(1, activation=\"sigmoid\")(head)\n",
    "\n",
    "model = Model(inputs=resnet_backbone.input, outputs=head)\n",
    "model.load_weights('ep003-loss0.549-val_loss0.523.h5')"
   ]
  },
  {
   "cell_type": "code",
   "execution_count": 5,
   "metadata": {},
   "outputs": [],
   "source": [
    "model.save('full_model.h5')"
   ]
  },
  {
   "cell_type": "code",
   "execution_count": 3,
   "metadata": {},
   "outputs": [],
   "source": [
    "RAW_VIDEO_DATA_DIR = 'data/raw_video/other' # @video folder here\n",
    "RAW_VIDEO_DATA_PATH = gl(RAW_VIDEO_DATA_DIR + '/*')\n",
    "labels = ['other', 'wood-making']"
   ]
  },
  {
   "cell_type": "code",
   "execution_count": 8,
   "metadata": {},
   "outputs": [],
   "source": [
    "def get_frame(cap, sec, frame_index):\n",
    "    cap.set(cv2.CAP_PROP_POS_MSEC, sec * 1000)\n",
    "    success, image = cap.read()\n",
    "\n",
    "    return success, image"
   ]
  },
  {
   "cell_type": "code",
   "execution_count": 16,
   "metadata": {
    "scrolled": true
   },
   "outputs": [
    {
     "name": "stdout",
     "output_type": "stream",
     "text": [
      "Video data/raw_video/other\\1.3M Views -Supporting tools and creative ideas!.mp4 has 1.5086206896551724% content is other and 98.49137931034483% content is wood-making\n"
     ]
    }
   ],
   "source": [
    "for vid_path in RAW_VIDEO_DATA_PATH:\n",
    "    cap = cv2.VideoCapture('Making the _Impossible Joint_ 四方鎌継.mp4')\n",
    "    vid_name = vid_path.split('/')[-1]\n",
    "    Q = []\n",
    "\n",
    "    if (cap.isOpened()== False): \n",
    "      print(\"Error opening video stream or file\")\n",
    "\n",
    "    frame_index = 0\n",
    "    frame_rate = 2 # predict every 2 second\n",
    "    sec = 0\n",
    "    success, image = get_frame(cap, sec, frame_index)\n",
    "    while success:\n",
    "        \n",
    "        image = cv2.resize(image, (224, 224))\n",
    "        image = np.expand_dims(image, axis=0)\n",
    "        preds = int(model.predict(image)[0][0])\n",
    "        Q.append(preds)\n",
    "        \n",
    "        frame_index += 1\n",
    "        sec = sec + frame_rate\n",
    "        sec = round(sec, 2)\n",
    "        success, image = get_frame(cap, sec, frame_index)\n",
    "\n",
    "    counts = np.bincount(np.array(Q))\n",
    "    output_label = 100*np.true_divide(counts, len(Q))\n",
    "    \n",
    "    print('Video {} has {}% content is other and {}% content is wood-making'.format(vid_name, output_label[0], output_label[1]))\n",
    "    cap.release()"
   ]
  }
 ],
 "metadata": {
  "kernelspec": {
   "display_name": "kernel",
   "language": "python",
   "name": "kernel"
  },
  "language_info": {
   "codemirror_mode": {
    "name": "ipython",
    "version": 3
   },
   "file_extension": ".py",
   "mimetype": "text/x-python",
   "name": "python",
   "nbconvert_exporter": "python",
   "pygments_lexer": "ipython3",
   "version": "3.7.9"
  }
 },
 "nbformat": 4,
 "nbformat_minor": 4
}
